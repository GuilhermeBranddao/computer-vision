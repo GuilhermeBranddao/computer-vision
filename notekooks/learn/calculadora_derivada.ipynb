{
 "cells": [
  {
   "cell_type": "code",
   "execution_count": 13,
   "id": "ea15d662",
   "metadata": {},
   "outputs": [
    {
     "data": {
      "text/plain": [
       "(7.000000000090267, 'Diferença Central')"
      ]
     },
     "execution_count": 13,
     "metadata": {},
     "output_type": "execute_result"
    }
   ],
   "source": [
    "from typing import Callable, Tuple, List, Tuple, Optional \n",
    "\n",
    "def minha_funcao_quadratica(x: float) -> float:\n",
    "    return x**2 + 3*x + 2\n",
    "\n",
    "def minha_funcao_cubica(x: float) -> float:\n",
    "    return x**3 - 2*x**2 + x - 5\n",
    "\n",
    "\n",
    "def calcular_derivada_numerica(\n",
    "    func: Callable[[float], float],\n",
    "    x: float,\n",
    "    h: float = 1e-7,\n",
    "    metodo: str = \"central\" # Mudei o padrão para \"central\" por ser geralmente mais preciso\n",
    ") -> Tuple[Optional[float], str]: # Opcional[float] para o caso de erro\n",
    "\n",
    "    metodo = metodo.lower() # Tornar a comparação de string insensível a maiúsculas/minúsculas\n",
    "\n",
    "    if metodo == \"forward\":\n",
    "        derivada = (func(x + h) - func(x)) / h\n",
    "        metodo_usado_str = \"Diferença Progressiva\"\n",
    "    elif metodo == \"backward\":\n",
    "        derivada = (func(x) - func(x - h)) / h\n",
    "        metodo_usado_str = \"Diferença Regressiva\"\n",
    "    elif metodo == \"central\":\n",
    "        derivada = (func(x + h) - func(x - h)) / (2 * h)\n",
    "        metodo_usado_str = \"Diferença Central\"\n",
    "    else:\n",
    "        return None, f\"Método '{metodo}' inválido.\" # Retorno alternativo\n",
    "\n",
    "    return derivada, metodo_usado_str\n",
    "\n",
    "# Testando\n",
    "ponto = 2.0\n",
    "delta_h = 1e-6\n",
    "\n",
    "calcular_derivada_numerica(func=minha_funcao_quadratica,\n",
    "                          x=ponto,\n",
    "                          h=delta_h,\n",
    "                          metodo=\"central\")"
   ]
  },
  {
   "cell_type": "code",
   "execution_count": null,
   "id": "015fda20",
   "metadata": {},
   "outputs": [
    {
     "data": {
      "text/plain": [
       "5.0"
      ]
     },
     "execution_count": 36,
     "metadata": {},
     "output_type": "execute_result"
    }
   ],
   "source": [
    "def funcao_paraboloide(coords: List[float]) -> float:\n",
    "    # f(x, y) = x^2 + y^2\n",
    "    x, y = coords\n",
    "    return x**2 + y**2\n",
    "\n",
    "def funcao_produto_xyz(coords: List[float]) -> float:\n",
    "    # f(x, y, z) = x * y * z\n",
    "    x, y, z = coords\n",
    "    return x * y * z\n",
    "\n",
    "def central_difference(func, x, h):\n",
    "    \"\"\"\n",
    "    Diferença Finita Central\n",
    "    \"\"\"\n",
    "    derivada = (func(x + h) - func(x - h)) / (2 * h)\n",
    "    return derivada\n",
    "\n",
    "def calcular_vetor_gradiente(\n",
    "        x_data:List[float], \n",
    "        func:Callable,\n",
    "        h:float=1e-6):\n",
    "    \n",
    "    x = x_data[0]\n",
    "    y = x_data[0]\n",
    "\n",
    "    derivada_parcial = func([x+h, y])\n",
    "\n",
    "    return derivada_parcial\n",
    "\n",
    "x_data = [1.0, 2.0]\n",
    "calcular_vetor_gradiente(x_data, func=funcao_paraboloide)"
   ]
  },
  {
   "cell_type": "code",
   "execution_count": null,
   "id": "cef0cb27",
   "metadata": {},
   "outputs": [],
   "source": []
  },
  {
   "cell_type": "code",
   "execution_count": null,
   "id": "89a766c0",
   "metadata": {},
   "outputs": [],
   "source": []
  },
  {
   "cell_type": "code",
   "execution_count": 28,
   "metadata": {},
   "outputs": [
    {
     "data": {
      "text/plain": [
       "np.float64(-1.4962406015037595)"
      ]
     },
     "execution_count": 28,
     "metadata": {},
     "output_type": "execute_result"
    }
   ],
   "source": [
    "x"
   ]
  }
 ],
 "metadata": {
  "kernelspec": {
   "display_name": ".venv",
   "language": "python",
   "name": "python3"
  },
  "language_info": {
   "codemirror_mode": {
    "name": "ipython",
    "version": 3
   },
   "file_extension": ".py",
   "mimetype": "text/x-python",
   "name": "python",
   "nbconvert_exporter": "python",
   "pygments_lexer": "ipython3",
   "version": "3.11.9"
  }
 },
 "nbformat": 4,
 "nbformat_minor": 5
}
