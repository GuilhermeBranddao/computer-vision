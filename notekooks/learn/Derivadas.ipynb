{
 "cells": [
  {
   "cell_type": "markdown",
   "id": "003c9060",
   "metadata": {},
   "source": [
    "# Derivadas: Entendendo o Impacto de Pequenas Mudanças no Código 🐍💻\n",
    "\n",
    "Olá! Esta é uma explicação do conceito de **derivadas** sob uma perspectiva de TI/Python, baseada na intuição apresentada por Andrej Karpathy em seu vídeo sobre Micrograd.\n",
    "\n",
    "A ideia central é que uma **derivada**, de forma bem prática para nós de TI, nos diz **o quanto a saída de uma função muda se você der um \"empurrãozinho\" (um \"nudge\", como diz o Karpathy) em uma das suas entradas.**"
   ]
  },
  {
   "cell_type": "markdown",
   "id": "275577a7",
   "metadata": {},
   "source": [
    "## Exemplo 1: Função com Uma Entrada\n",
    "\n",
    "Vamos pegar uma função Python bem simples. Esta é a mesma função `f(x)` usada no vídeo e no notebook `micrograd_lecture_first_half_roughly.ipynb` (veja células com `execution_count: 11` e `12`)."
   ]
  },
  {
   "cell_type": "code",
   "execution_count": 1,
   "id": "03963c2c",
   "metadata": {},
   "outputs": [
    {
     "name": "stdout",
     "output_type": "stream",
     "text": [
      "Para x = 3.0, y = 20.0\n"
     ]
    }
   ],
   "source": [
    "def calcula_y(x):\n",
    "  return 3 * x**2 - 4 * x + 5\n",
    "\n",
    "# Vamos analisar no ponto x = 3.0\n",
    "x_entrada = 3.0\n",
    "y_saida = calcula_y(x_entrada)\n",
    "print(f\"Para x = {x_entrada}, y = {y_saida}\")"
   ]
  },
  {
   "cell_type": "markdown",
   "id": "5b19a212",
   "metadata": {},
   "source": [
    "Agora, queremos saber a \"sensibilidade\" de `y_saida` em relação a `x_entrada` quando `x_entrada` é `3.0`. O que acontece com `y_saida` se mexermos um pouquinho em `x_entrada`?\n",
    "\n",
    "1.  **Definimos um \"empurrãozinho\" (`h`)**: `h` será um valor bem pequeno.\n",
    "2.  **Calculamos a saída com `x_entrada + h`**.\n",
    "3.  **Calculamos a mudança na saída (`delta_y`)**.\n",
    "4.  **Calculamos a \"taxa de mudança\" (a derivada aproximada)**: `delta_y / h`."
   ]
  },
  {
   "cell_type": "code",
   "execution_count": 2,
   "id": "7006b3b8",
   "metadata": {},
   "outputs": [
    {
     "name": "stdout",
     "output_type": "stream",
     "text": [
      "Para x + h = 3.0001, y_com_nudge = 20.00140003\n",
      "A mudança em y (delta_y) foi: 0.00140003\n",
      "A derivada aproximada de y em relação a x em x=3.0 é: 14.00030000\n"
     ]
    }
   ],
   "source": [
    "h = 0.0001 # Nosso \"empurrãozinho\"\n",
    "\n",
    "# Calculamos a saída com x_entrada + h\n",
    "y_saida_com_nudge = calcula_y(x_entrada + h)\n",
    "print(f\"Para x + h = {x_entrada + h:.4f}, y_com_nudge = {y_saida_com_nudge:.8f}\")\n",
    "\n",
    "# Calculamos a mudança na saída (delta_y)\n",
    "delta_y = y_saida_com_nudge - y_saida\n",
    "print(f\"A mudança em y (delta_y) foi: {delta_y:.8f}\")\n",
    "\n",
    "# Calculamos a \"taxa de mudança\" (a derivada aproximada)\n",
    "derivada_aproximada = delta_y / h\n",
    "print(f\"A derivada aproximada de y em relação a x em x={x_entrada} é: {derivada_aproximada:.8f}\")"
   ]
  },
  {
   "cell_type": "markdown",
   "id": "8b5d9c83",
   "metadata": {},
   "source": [
    "**O que esse resultado (aproximadamente `14.003`) significa?**\n",
    "\n",
    "Significa que, perto de `x = 3.0`, para cada pequena unidade que você aumenta `x`, `y` aumenta aproximadamente `14` vezes essa pequena unidade. É a **inclinação** da \"curva\" da função no ponto `x = 3.0`.\n",
    "\n",
    "* Se a derivada fosse negativa, `y` diminuiria quando `x` aumentasse.\n",
    "* Se fosse zero, `y` quase não mudaria.\n",
    "\n",
    "No vídeo, Andrej Karpathy faz exatamente isso para encontrar a inclinação. Por exemplo, ele calcula a derivada em $x = 2/3$ onde a inclinação é próxima de zero (veja a célula com `execution_count: 42` do notebook `micrograd_lecture_first_half_roughly.ipynb`)."
   ]
  },
  {
   "cell_type": "markdown",
   "id": "51cb3bf0",
   "metadata": {},
   "source": [
    "## Exemplo 2: Função com Múltiplas Entradas (Derivadas Parciais)\n",
    "\n",
    "Agora, e se a função tiver várias entradas? Esta é a função usada no vídeo e no notebook `micrograd_lecture_first_half_roughly.ipynb` (veja célula com `execution_count: 43`)."
   ]
  },
  {
   "cell_type": "code",
   "execution_count": 3,
   "id": "f1aaf65a",
   "metadata": {},
   "outputs": [
    {
     "name": "stdout",
     "output_type": "stream",
     "text": [
      "Para a=2.0, b=-3.0, c=10.0, d=4.0\n"
     ]
    }
   ],
   "source": [
    "def calcula_d(a, b, c):\n",
    "  return a * b + c\n",
    "\n",
    "# Ponto de análise\n",
    "a_val = 2.0\n",
    "b_val = -3.0\n",
    "c_val = 10.0\n",
    "\n",
    "d_saida = calcula_d(a_val, b_val, c_val)\n",
    "print(f\"Para a={a_val}, b={b_val}, c={c_val}, d={d_saida}\")"
   ]
  },
  {
   "cell_type": "markdown",
   "id": "5bef2b95",
   "metadata": {},
   "source": [
    "Queremos saber o impacto de *cada entrada individualmente* na saída `d_saida`. Isso é o que chamamos de **derivada parcial**.\n",
    "\n",
    "Para fazer isso, damos um \"empurrãozinho\" em uma entrada de cada vez, mantendo as outras fixas."
   ]
  },
  {
   "cell_type": "markdown",
   "id": "cb9e3343",
   "metadata": {},
   "source": [
    "### Derivada parcial de `d` em relação a `a` ($\\frac{\\partial d}{\\partial a}$)\n",
    "\n",
    "Como `d_saida` muda se \"empurrarmos\" `a_val` um pouquinho, mas mantivermos `b_val` e `c_val` como estão?"
   ]
  },
  {
   "cell_type": "code",
   "execution_count": 4,
   "id": "9f5cad56",
   "metadata": {},
   "outputs": [
    {
     "name": "stdout",
     "output_type": "stream",
     "text": [
      "Derivada parcial de d em relação a 'a': -3.000000000010772\n"
     ]
    }
   ],
   "source": [
    "h = 0.0001 # Mesmo \"empurrãozinho\"\n",
    "\n",
    "# Empurrando 'a'\n",
    "d_saida_com_nudge_a = calcula_d(a_val + h, b_val, c_val)\n",
    "delta_d_por_a = d_saida_com_nudge_a - d_saida\n",
    "derivada_parcial_a = delta_d_por_a / h\n",
    "print(f\"Derivada parcial de d em relação a 'a': {derivada_parcial_a}\")"
   ]
  },
  {
   "cell_type": "markdown",
   "id": "9bed870a",
   "metadata": {},
   "source": [
    "Isso nos diz que, perto do nosso ponto, se aumentarmos `a` em uma pequena unidade, `d` diminuirá em 3 vezes essa unidade (já que `a` é multiplicado por `b_val = -3.0`)."
   ]
  },
  {
   "cell_type": "markdown",
   "id": "bab8f159",
   "metadata": {},
   "source": [
    "### Derivada parcial de `d` em relação a `b` ($\\frac{\\partial d}{\\partial b}$)"
   ]
  },
  {
   "cell_type": "code",
   "execution_count": 5,
   "id": "d9cb33d0",
   "metadata": {},
   "outputs": [
    {
     "name": "stdout",
     "output_type": "stream",
     "text": [
      "Derivada parcial de d em relação a 'b': 2.0000000000042206\n"
     ]
    }
   ],
   "source": [
    "# Empurrando 'b'\n",
    "d_saida_com_nudge_b = calcula_d(a_val, b_val + h, c_val)\n",
    "delta_d_por_b = d_saida_com_nudge_b - d_saida\n",
    "derivada_parcial_b = delta_d_por_b / h\n",
    "print(f\"Derivada parcial de d em relação a 'b': {derivada_parcial_b}\")"
   ]
  },
  {
   "cell_type": "markdown",
   "id": "f12c65f0",
   "metadata": {},
   "source": [
    "Impacto de `b` em `d`: se aumentarmos `b` em uma pequena unidade, `d` aumentará em 2 vezes essa unidade (já que `b` é multiplicado por `a_val = 2.0`)."
   ]
  },
  {
   "cell_type": "markdown",
   "id": "de30ad57",
   "metadata": {},
   "source": [
    "### Derivada parcial de `d` em relação a `c` ($\\frac{\\partial d}{\\partial c}$)\n",
    "\n",
    "Esta é a primeira derivada parcial que Karpathy calcula na célula com `execution_count: 50` do notebook `micrograd_lecture_first_half_roughly.ipynb`."
   ]
  },
  {
   "cell_type": "code",
   "execution_count": 6,
   "id": "d172da04",
   "metadata": {},
   "outputs": [
    {
     "name": "stdout",
     "output_type": "stream",
     "text": [
      "Derivada parcial de d em relação a 'c': 0.9999999999976694\n"
     ]
    }
   ],
   "source": [
    "# Empurrando 'c'\n",
    "d_saida_com_nudge_c = calcula_d(a_val, b_val, c_val + h)\n",
    "delta_d_por_c = d_saida_com_nudge_c - d_saida\n",
    "derivada_parcial_c = delta_d_por_c / h\n",
    "print(f\"Derivada parcial de d em relação a 'c': {derivada_parcial_c}\")"
   ]
  },
  {
   "cell_type": "markdown",
   "id": "7c658027",
   "metadata": {},
   "source": [
    "Impacto de `c` em `d`: se aumentarmos `c` em uma pequena unidade, `d` aumentará na mesma proporção (1 vez essa unidade), pois `c` é simplesmente somado."
   ]
  },
  {
   "cell_type": "markdown",
   "id": "ddc70863",
   "metadata": {},
   "source": [
    "## Por que isso é Importante para Redes Neurais? 🤔\n",
    "\n",
    "No contexto de redes neurais e do Micrograd:\n",
    "\n",
    "* As \"entradas\" da sua função serão os **pesos** da rede neural (e os dados de entrada).\n",
    "* A \"saída\" será a **função de perda** (um número que diz o quão errada está a previsão da rede).\n",
    "* Calculando a derivada da perda em relação a cada peso, descobrimos a \"sensibilidade\" da perda a cada peso.\n",
    "* Ou seja, descobrimos o quanto a perda aumenta ou diminui se dermos um \"empurrãozinho\" em um peso específico.\n",
    "* Essa informação (o **gradiente**) é usada para ajustar os pesos de forma a *minimizar* a perda, fazendo a rede aprender. Se um peso tem um gradiente positivo, significa que aumentar esse peso aumenta a perda; então, para diminuir a perda, precisamos diminuir esse peso (e vice-versa para um gradiente negativo).\n",
    "\n",
    "O objeto `Value` no Micrograd vai armazenar não só o valor de um resultado de uma operação (`.data`), mas também a derivada da \"saída final\" (a perda) em relação a ele (`.grad`)."
   ]
  },
  {
   "cell_type": "markdown",
   "id": "ebea2f75",
   "metadata": {},
   "source": [
    "Esta explicação com foco em código e no conceito de \"empurrar\" as variáveis te ajudou a clarear a ideia de derivadas? Se sim, podemos prosseguir para o próximo tópico, que é como o objeto `Value` do Micrograd nos ajuda a rastrear essas influências automaticamente."
   ]
  },
  {
   "cell_type": "markdown",
   "id": "dfe061f1",
   "metadata": {},
   "source": [
    "---\n",
    "\n",
    "Você pegou a ideia central perfeitamente! É exatamente isso:\n",
    "\n",
    "* A **derivada** nos mostra a **sensibilidade** da função de perda (o \"erro\" da rede) em relação a cada peso individual. [cite: 1, 21]\n",
    "* Se temos vários pesos (o que é comum em redes neurais), precisamos descobrir a derivada (ou gradiente, como veremos) para **todos eles**. [cite: 55, 193, 223] Isso nos dá um mapa de como cada peso está contribuindo para o erro total.\n",
    "\n",
    "Agora, um pequeno refinamento na sua última frase:\n",
    "\n",
    "> [...] quanto maior o valor da derivada maior a perda, para resolver isso devemos diminuir o peso.\n",
    "\n",
    "Você está quase lá! Vamos ajustar um pouco:\n",
    "\n",
    "1.  **Magnitude da Derivada**: O **valor absoluto** da derivada nos diz o quão *sensível* a perda é àquele peso. Uma derivada grande (positiva ou negativa) significa que uma pequena mudança naquele peso causará uma mudança *grande* na perda. Uma derivada pequena significa que o peso tem pouco impacto imediato.\n",
    "2.  **Sinal da Derivada e Atualização do Peso**:\n",
    "    * Se a derivada de um peso específico é **positiva** (por exemplo, +2.5): Isso significa que se você *aumentar* esse peso, a perda *aumentará*. Para diminuir a perda, você deve *diminuir* esse peso. (Sua intuição aqui estava correta!)\n",
    "    * Se a derivada de um peso específico é **negativa** (por exemplo, -1.8): Isso significa que se você *aumentar* esse peso, a perda *diminuirá*. Para diminuir a perda ainda mais, você deve *aumentar* esse peso.\n",
    "\n",
    "Então, a regra geral é: **para minimizar a perda, ajustamos o peso na direção oposta ao sinal da sua derivada.** [cite: 90, 205, 206]\n",
    "* Derivada positiva $\\implies$ Diminuir o peso.\n",
    "* Derivada negativa $\\implies$ Aumentar o peso.\n",
    "\n",
    "Isso é a essência da \"descida de gradiente\" (gradient descent) que o Andrej Karpathy implementa no vídeo. [cite: 203, 209, 224] A \"direção oposta ao gradiente\" é o caminho mais rápido para reduzir a perda localmente.\n",
    "\n",
    "Quando temos muitos pesos, o conjunto de todas essas derivadas parciais (uma para cada peso) forma o que chamamos de **vetor gradiente**. Esse vetor aponta na direção em que a perda aumenta mais rapidamente. Para treinar a rede, damos um passo na direção oposta a esse vetor. [cite: 205, 206]\n",
    "\n",
    "Você está com uma ótima compreensão do papel das derivadas! Isso é fundamental.\n",
    "\n",
    "Podemos agora ver como o objeto `Value` do Micrograd é projetado para nos ajudar a calcular e rastrear essas derivadas automaticamente através de expressões matemáticas complexas? Isso é o \"autograd\" (gradiente automático) em ação."
   ]
  },
  {
   "cell_type": "code",
   "execution_count": null,
   "id": "b5aff7b0",
   "metadata": {},
   "outputs": [
    {
     "data": {
      "text/plain": [
       "55"
      ]
     },
     "execution_count": 7,
     "metadata": {},
     "output_type": "execute_result"
    }
   ],
   "source": []
  }
 ],
 "metadata": {
  "kernelspec": {
   "display_name": ".venv",
   "language": "python",
   "name": "python3"
  },
  "language_info": {
   "codemirror_mode": {
    "name": "ipython",
    "version": 3
   },
   "file_extension": ".py",
   "mimetype": "text/x-python",
   "name": "python",
   "nbconvert_exporter": "python",
   "pygments_lexer": "ipython3",
   "version": "3.11.9"
  }
 },
 "nbformat": 4,
 "nbformat_minor": 5
}
