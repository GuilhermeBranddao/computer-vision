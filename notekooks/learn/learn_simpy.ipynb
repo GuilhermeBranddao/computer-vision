{
 "cells": [
  {
   "cell_type": "code",
   "execution_count": null,
   "id": "d928c6de",
   "metadata": {},
   "outputs": [
    {
     "name": "stdout",
     "output_type": "stream",
     "text": [
      "Funções dadas:\n",
      "y = z**2\n",
      "z = 3*x\n",
      "\n",
      "Passo 1: Calcular ∂y/∂z\n",
      "∂y/∂z = 2*z\n",
      "\n",
      "Passo 2: Calcular ∂z/∂x\n",
      "∂z/∂x = 3\n",
      "\n",
      "Passo 3: Aplicar a Regra da Cadeia (resultado intermediário em termos de z)\n",
      "∂y/∂x = (∂y/∂z) * (∂z/∂x) = (2*z) * (3) = 6*z\n",
      "\n",
      "Passo 4: Substituir z por sua expressão em x (z = 3*x) no resultado intermediário\n",
      "∂y/∂x = 6*z [com z=3*x] = 18*x\n",
      "\n",
      "Resultado Final Simbólico: ∂y/∂x = 18*x\n",
      "\n",
      "--- Verificação ---\n",
      "Compondo y(x) diretamente: y = (3*x)^2 = 9*x**2\n",
      "Derivando y(x) diretamente em relação a x: ∂y/∂x = 18*x\n",
      "Os resultados da Regra da Cadeia e da derivação direta coincidem.\n"
     ]
    }
   ],
   "source": [
    "import sympy\n",
    "from sympy import Symbol, frac, Rational, floor, I\n",
    "\n",
    "# 1. Definir os símbolos\n",
    "# Vamos declarar 'x' e 'z' como símbolos matemáticos\n",
    "x, z = sympy.symbols('x z')\n",
    "\n",
    "# 2. Definir as funções (expressões)\n",
    "# y em termos de z\n",
    "y_expr_z = z**2\n",
    "# z em termos de x\n",
    "z_expr_x = 3*x\n",
    "\n",
    "print(f\"Funções dadas:\")\n",
    "print(f\"y = {y_expr_z}\")\n",
    "print(f\"z = {z_expr_x}\\n\")\n",
    "\n",
    "# 3. Calcular ∂y/∂z (derivada de y em relação a z)\n",
    "dy_dz = sympy.diff(y_expr_z, z)\n",
    "print(f\"Passo 1: Calcular ∂y/∂z\")\n",
    "print(f\"∂y/∂z = {dy_dz}\\n\") # Output esperado: 2*z\n",
    "\n",
    "# 4. Calcular ∂z/∂x (derivada de z em relação a x)\n",
    "dz_dx = sympy.diff(z_expr_x, x)\n",
    "print(f\"Passo 2: Calcular ∂z/∂x\")\n",
    "print(f\"∂z/∂x = {dz_dx}\\n\") # Output esperado: 3\n",
    "\n",
    "# 5. Aplicar a Regra da Cadeia: ∂y/∂x = (∂y/∂z) * (∂z/∂x)\n",
    "# Neste ponto, dy_dz (que é 2*z) ainda está em termos de z.\n",
    "# Multiplicamos as duas derivadas que encontramos:\n",
    "dy_dx_intermediate = dy_dz * dz_dx\n",
    "print(f\"Passo 3: Aplicar a Regra da Cadeia (resultado intermediário em termos de z)\")\n",
    "print(f\"∂y/∂x = (∂y/∂z) * (∂z/∂x) = ({dy_dz}) * ({dz_dx}) = {dy_dx_intermediate}\\n\") # Output esperado: 6*z\n",
    "\n",
    "# 6. Expressar o resultado final em termos de x\n",
    "# Para obter ∂y/∂x apenas em termos de x, substituímos a expressão de z (z_expr_x = 3*x)\n",
    "# no resultado intermediário (dy_dx_intermediate = 6*z).\n",
    "dy_dx_final = dy_dx_intermediate.subs(z, z_expr_x)\n",
    "print(f\"Passo 4: Substituir z por sua expressão em x (z = {z_expr_x}) no resultado intermediário\")\n",
    "print(f\"∂y/∂x = {dy_dx_intermediate} [com z={z_expr_x}] = {dy_dx_final}\\n\") # Output esperado: 18*x\n",
    "\n",
    "print(f\"Resultado Final Simbólico: ∂y/∂x = {dy_dx_final}\")\n",
    "\n",
    "# --- Verificação (Opcional mas recomendado) ---\n",
    "# Podemos primeiro compor y em termos de x e depois diferenciar diretamente.\n",
    "# y(x) = (3x)^2 = 9x^2\n",
    "y_expr_x_direct = y_expr_z.subs(z, z_expr_x)\n",
    "print(f\"\\n--- Verificação ---\")\n",
    "print(f\"Compondo y(x) diretamente: y = ({z_expr_x})^2 = {y_expr_x_direct}\")\n",
    "\n",
    "dy_dx_direct_check = sympy.diff(y_expr_x_direct, x)\n",
    "print(f\"Derivando y(x) diretamente em relação a x: ∂y/∂x = {dy_dx_direct_check}\")\n",
    "\n",
    "# Confirmar que os resultados são os mesmos\n",
    "assert dy_dx_final == dy_dx_direct_check\n",
    "print(\"Os resultados da Regra da Cadeia e da derivação direta coincidem.\")"
   ]
  },
  {
   "cell_type": "code",
   "execution_count": 12,
   "id": "04d1c4ff",
   "metadata": {},
   "outputs": [
    {
     "name": "stderr",
     "output_type": "stream",
     "text": [
      "WARNING:2025-06-04 13:54:05,346:jax._src.xla_bridge:791: An NVIDIA GPU may be present on this machine, but a CUDA-enabled jaxlib is not installed. Falling back to cpu.\n"
     ]
    },
    {
     "name": "stdout",
     "output_type": "stream",
     "text": [
      "\n",
      "--- Exemplo com JAX (Diferenciação Automática Numérica) ---\n",
      "Função y(x) = (3x)^2\n",
      "Calculando o valor de ∂y/∂x para x = 2.0\n",
      "Valor da derivada (∂y/∂x) em x=2.0 é: 36.0\n",
      "Valor esperado (18*x para x=2.0): 36.0\n"
     ]
    }
   ],
   "source": [
    "import jax\n",
    "import jax.numpy as jnp\n",
    "\n",
    "# 1. Definir as funções Python originais\n",
    "def func_z(x_val):\n",
    "  return 3 * x_val\n",
    "\n",
    "def func_y(z_val):\n",
    "  return z_val**2\n",
    "\n",
    "# 2. Definir a função composta y(x) = y(z(x))\n",
    "def func_y_de_x(x_val):\n",
    "  z_val = func_z(x_val)\n",
    "  y_val = func_y(z_val)\n",
    "  return y_val\n",
    "\n",
    "# 3. Obter a função que calcula o gradiente (derivada) de y em relação a x\n",
    "grad_y_de_x = jax.grad(func_y_de_x)\n",
    "\n",
    "# 4. Calcular o valor da derivada para um x específico\n",
    "x_teste = 2.0\n",
    "valor_derivada = grad_y_de_x(x_teste)\n",
    "\n",
    "print(f\"\\n--- Exemplo com JAX (Diferenciação Automática Numérica) ---\")\n",
    "print(f\"Função y(x) = (3x)^2\")\n",
    "print(f\"Calculando o valor de ∂y/∂x para x = {x_teste}\")\n",
    "print(f\"Valor da derivada (∂y/∂x) em x={x_teste} é: {valor_derivada}\") # Output esperado: 36.0\n",
    "# Verificação manual: ∂y/∂x = 18x. Para x=2.0, 18*2.0 = 36.0\n",
    "print(f\"Valor esperado (18*x para x={x_teste}): {18 * x_teste}\")"
   ]
  }
 ],
 "metadata": {
  "kernelspec": {
   "display_name": ".venv",
   "language": "python",
   "name": "python3"
  },
  "language_info": {
   "codemirror_mode": {
    "name": "ipython",
    "version": 3
   },
   "file_extension": ".py",
   "mimetype": "text/x-python",
   "name": "python",
   "nbconvert_exporter": "python",
   "pygments_lexer": "ipython3",
   "version": "3.11.9"
  }
 },
 "nbformat": 4,
 "nbformat_minor": 5
}
